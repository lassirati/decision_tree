{
 "cells": [
  {
   "cell_type": "code",
   "execution_count": 1,
   "metadata": {},
   "outputs": [],
   "source": [
    "import pandas as pd"
   ]
  },
  {
   "cell_type": "code",
   "execution_count": 2,
   "metadata": {},
   "outputs": [],
   "source": [
    "data = pd.read_csv('Pasta2.csv', sep=';')"
   ]
  },
  {
   "cell_type": "code",
   "execution_count": 3,
   "metadata": {},
   "outputs": [
    {
     "data": {
      "text/html": [
       "<div>\n",
       "<style scoped>\n",
       "    .dataframe tbody tr th:only-of-type {\n",
       "        vertical-align: middle;\n",
       "    }\n",
       "\n",
       "    .dataframe tbody tr th {\n",
       "        vertical-align: top;\n",
       "    }\n",
       "\n",
       "    .dataframe thead th {\n",
       "        text-align: right;\n",
       "    }\n",
       "</style>\n",
       "<table border=\"1\" class=\"dataframe\">\n",
       "  <thead>\n",
       "    <tr style=\"text-align: right;\">\n",
       "      <th></th>\n",
       "      <th>dor_peito</th>\n",
       "      <th>boa_circulacao</th>\n",
       "      <th>arterias_bloq</th>\n",
       "      <th>doenca_coracao</th>\n",
       "    </tr>\n",
       "  </thead>\n",
       "  <tbody>\n",
       "    <tr>\n",
       "      <th>0</th>\n",
       "      <td>0</td>\n",
       "      <td>0</td>\n",
       "      <td>0</td>\n",
       "      <td>0</td>\n",
       "    </tr>\n",
       "    <tr>\n",
       "      <th>1</th>\n",
       "      <td>1</td>\n",
       "      <td>1</td>\n",
       "      <td>1</td>\n",
       "      <td>1</td>\n",
       "    </tr>\n",
       "    <tr>\n",
       "      <th>2</th>\n",
       "      <td>1</td>\n",
       "      <td>1</td>\n",
       "      <td>0</td>\n",
       "      <td>0</td>\n",
       "    </tr>\n",
       "    <tr>\n",
       "      <th>3</th>\n",
       "      <td>1</td>\n",
       "      <td>0</td>\n",
       "      <td>1</td>\n",
       "      <td>1</td>\n",
       "    </tr>\n",
       "    <tr>\n",
       "      <th>4</th>\n",
       "      <td>0</td>\n",
       "      <td>0</td>\n",
       "      <td>0</td>\n",
       "      <td>0</td>\n",
       "    </tr>\n",
       "    <tr>\n",
       "      <th>5</th>\n",
       "      <td>1</td>\n",
       "      <td>1</td>\n",
       "      <td>1</td>\n",
       "      <td>1</td>\n",
       "    </tr>\n",
       "    <tr>\n",
       "      <th>6</th>\n",
       "      <td>1</td>\n",
       "      <td>1</td>\n",
       "      <td>1</td>\n",
       "      <td>0</td>\n",
       "    </tr>\n",
       "    <tr>\n",
       "      <th>7</th>\n",
       "      <td>1</td>\n",
       "      <td>0</td>\n",
       "      <td>1</td>\n",
       "      <td>1</td>\n",
       "    </tr>\n",
       "    <tr>\n",
       "      <th>8</th>\n",
       "      <td>0</td>\n",
       "      <td>0</td>\n",
       "      <td>0</td>\n",
       "      <td>0</td>\n",
       "    </tr>\n",
       "    <tr>\n",
       "      <th>9</th>\n",
       "      <td>1</td>\n",
       "      <td>1</td>\n",
       "      <td>1</td>\n",
       "      <td>1</td>\n",
       "    </tr>\n",
       "    <tr>\n",
       "      <th>10</th>\n",
       "      <td>1</td>\n",
       "      <td>1</td>\n",
       "      <td>0</td>\n",
       "      <td>0</td>\n",
       "    </tr>\n",
       "    <tr>\n",
       "      <th>11</th>\n",
       "      <td>1</td>\n",
       "      <td>0</td>\n",
       "      <td>1</td>\n",
       "      <td>1</td>\n",
       "    </tr>\n",
       "    <tr>\n",
       "      <th>12</th>\n",
       "      <td>0</td>\n",
       "      <td>0</td>\n",
       "      <td>0</td>\n",
       "      <td>0</td>\n",
       "    </tr>\n",
       "    <tr>\n",
       "      <th>13</th>\n",
       "      <td>1</td>\n",
       "      <td>1</td>\n",
       "      <td>0</td>\n",
       "      <td>1</td>\n",
       "    </tr>\n",
       "    <tr>\n",
       "      <th>14</th>\n",
       "      <td>0</td>\n",
       "      <td>1</td>\n",
       "      <td>0</td>\n",
       "      <td>0</td>\n",
       "    </tr>\n",
       "    <tr>\n",
       "      <th>15</th>\n",
       "      <td>1</td>\n",
       "      <td>0</td>\n",
       "      <td>1</td>\n",
       "      <td>1</td>\n",
       "    </tr>\n",
       "  </tbody>\n",
       "</table>\n",
       "</div>"
      ],
      "text/plain": [
       "    dor_peito  boa_circulacao  arterias_bloq  doenca_coracao\n",
       "0           0               0              0               0\n",
       "1           1               1              1               1\n",
       "2           1               1              0               0\n",
       "3           1               0              1               1\n",
       "4           0               0              0               0\n",
       "5           1               1              1               1\n",
       "6           1               1              1               0\n",
       "7           1               0              1               1\n",
       "8           0               0              0               0\n",
       "9           1               1              1               1\n",
       "10          1               1              0               0\n",
       "11          1               0              1               1\n",
       "12          0               0              0               0\n",
       "13          1               1              0               1\n",
       "14          0               1              0               0\n",
       "15          1               0              1               1"
      ]
     },
     "execution_count": 3,
     "metadata": {},
     "output_type": "execute_result"
    }
   ],
   "source": [
    "data"
   ]
  },
  {
   "cell_type": "code",
   "execution_count": 4,
   "metadata": {},
   "outputs": [
    {
     "data": {
      "text/plain": [
       "16"
      ]
     },
     "execution_count": 4,
     "metadata": {},
     "output_type": "execute_result"
    }
   ],
   "source": [
    "len(data)"
   ]
  },
  {
   "cell_type": "markdown",
   "metadata": {},
   "source": [
    "<img src=\"1.png\"/>"
   ]
  },
  {
   "cell_type": "code",
   "execution_count": 5,
   "metadata": {},
   "outputs": [],
   "source": [
    "# análise dor_peito <--> doenca_coracao"
   ]
  },
  {
   "cell_type": "code",
   "execution_count": 6,
   "metadata": {},
   "outputs": [
    {
     "data": {
      "text/html": [
       "<div>\n",
       "<style scoped>\n",
       "    .dataframe tbody tr th:only-of-type {\n",
       "        vertical-align: middle;\n",
       "    }\n",
       "\n",
       "    .dataframe tbody tr th {\n",
       "        vertical-align: top;\n",
       "    }\n",
       "\n",
       "    .dataframe thead th {\n",
       "        text-align: right;\n",
       "    }\n",
       "</style>\n",
       "<table border=\"1\" class=\"dataframe\">\n",
       "  <thead>\n",
       "    <tr style=\"text-align: right;\">\n",
       "      <th></th>\n",
       "      <th>dor_peito</th>\n",
       "      <th>boa_circulacao</th>\n",
       "      <th>arterias_bloq</th>\n",
       "      <th>doenca_coracao</th>\n",
       "    </tr>\n",
       "  </thead>\n",
       "  <tbody>\n",
       "    <tr>\n",
       "      <th>1</th>\n",
       "      <td>1</td>\n",
       "      <td>1</td>\n",
       "      <td>1</td>\n",
       "      <td>1</td>\n",
       "    </tr>\n",
       "    <tr>\n",
       "      <th>3</th>\n",
       "      <td>1</td>\n",
       "      <td>0</td>\n",
       "      <td>1</td>\n",
       "      <td>1</td>\n",
       "    </tr>\n",
       "    <tr>\n",
       "      <th>5</th>\n",
       "      <td>1</td>\n",
       "      <td>1</td>\n",
       "      <td>1</td>\n",
       "      <td>1</td>\n",
       "    </tr>\n",
       "    <tr>\n",
       "      <th>7</th>\n",
       "      <td>1</td>\n",
       "      <td>0</td>\n",
       "      <td>1</td>\n",
       "      <td>1</td>\n",
       "    </tr>\n",
       "    <tr>\n",
       "      <th>9</th>\n",
       "      <td>1</td>\n",
       "      <td>1</td>\n",
       "      <td>1</td>\n",
       "      <td>1</td>\n",
       "    </tr>\n",
       "    <tr>\n",
       "      <th>11</th>\n",
       "      <td>1</td>\n",
       "      <td>0</td>\n",
       "      <td>1</td>\n",
       "      <td>1</td>\n",
       "    </tr>\n",
       "    <tr>\n",
       "      <th>13</th>\n",
       "      <td>1</td>\n",
       "      <td>1</td>\n",
       "      <td>0</td>\n",
       "      <td>1</td>\n",
       "    </tr>\n",
       "    <tr>\n",
       "      <th>15</th>\n",
       "      <td>1</td>\n",
       "      <td>0</td>\n",
       "      <td>1</td>\n",
       "      <td>1</td>\n",
       "    </tr>\n",
       "  </tbody>\n",
       "</table>\n",
       "</div>"
      ],
      "text/plain": [
       "    dor_peito  boa_circulacao  arterias_bloq  doenca_coracao\n",
       "1           1               1              1               1\n",
       "3           1               0              1               1\n",
       "5           1               1              1               1\n",
       "7           1               0              1               1\n",
       "9           1               1              1               1\n",
       "11          1               0              1               1\n",
       "13          1               1              0               1\n",
       "15          1               0              1               1"
      ]
     },
     "execution_count": 6,
     "metadata": {},
     "output_type": "execute_result"
    }
   ],
   "source": [
    "# tem dor no peito e tem doença no coração\n",
    "\n",
    "data[(data['dor_peito'] == 1) & (data['doenca_coracao'] == 1)]"
   ]
  },
  {
   "cell_type": "code",
   "execution_count": 7,
   "metadata": {},
   "outputs": [
    {
     "data": {
      "text/plain": [
       "8"
      ]
     },
     "execution_count": 7,
     "metadata": {},
     "output_type": "execute_result"
    }
   ],
   "source": [
    "len(data[(data['dor_peito'] == 1) & (data['doenca_coracao'] == 1)])"
   ]
  },
  {
   "cell_type": "code",
   "execution_count": 8,
   "metadata": {},
   "outputs": [
    {
     "data": {
      "text/html": [
       "<div>\n",
       "<style scoped>\n",
       "    .dataframe tbody tr th:only-of-type {\n",
       "        vertical-align: middle;\n",
       "    }\n",
       "\n",
       "    .dataframe tbody tr th {\n",
       "        vertical-align: top;\n",
       "    }\n",
       "\n",
       "    .dataframe thead th {\n",
       "        text-align: right;\n",
       "    }\n",
       "</style>\n",
       "<table border=\"1\" class=\"dataframe\">\n",
       "  <thead>\n",
       "    <tr style=\"text-align: right;\">\n",
       "      <th></th>\n",
       "      <th>dor_peito</th>\n",
       "      <th>boa_circulacao</th>\n",
       "      <th>arterias_bloq</th>\n",
       "      <th>doenca_coracao</th>\n",
       "    </tr>\n",
       "  </thead>\n",
       "  <tbody>\n",
       "    <tr>\n",
       "      <th>2</th>\n",
       "      <td>1</td>\n",
       "      <td>1</td>\n",
       "      <td>0</td>\n",
       "      <td>0</td>\n",
       "    </tr>\n",
       "    <tr>\n",
       "      <th>6</th>\n",
       "      <td>1</td>\n",
       "      <td>1</td>\n",
       "      <td>1</td>\n",
       "      <td>0</td>\n",
       "    </tr>\n",
       "    <tr>\n",
       "      <th>10</th>\n",
       "      <td>1</td>\n",
       "      <td>1</td>\n",
       "      <td>0</td>\n",
       "      <td>0</td>\n",
       "    </tr>\n",
       "  </tbody>\n",
       "</table>\n",
       "</div>"
      ],
      "text/plain": [
       "    dor_peito  boa_circulacao  arterias_bloq  doenca_coracao\n",
       "2           1               1              0               0\n",
       "6           1               1              1               0\n",
       "10          1               1              0               0"
      ]
     },
     "execution_count": 8,
     "metadata": {},
     "output_type": "execute_result"
    }
   ],
   "source": [
    "# tem dor no peito e não tem doença no coração\n",
    "\n",
    "data[(data['dor_peito'] == 1) & (data['doenca_coracao'] == 0)]"
   ]
  },
  {
   "cell_type": "code",
   "execution_count": 9,
   "metadata": {},
   "outputs": [
    {
     "data": {
      "text/plain": [
       "3"
      ]
     },
     "execution_count": 9,
     "metadata": {},
     "output_type": "execute_result"
    }
   ],
   "source": [
    "len(data[(data['dor_peito'] == 1) & (data['doenca_coracao'] == 0)])"
   ]
  },
  {
   "cell_type": "code",
   "execution_count": 10,
   "metadata": {},
   "outputs": [
    {
     "data": {
      "text/html": [
       "<div>\n",
       "<style scoped>\n",
       "    .dataframe tbody tr th:only-of-type {\n",
       "        vertical-align: middle;\n",
       "    }\n",
       "\n",
       "    .dataframe tbody tr th {\n",
       "        vertical-align: top;\n",
       "    }\n",
       "\n",
       "    .dataframe thead th {\n",
       "        text-align: right;\n",
       "    }\n",
       "</style>\n",
       "<table border=\"1\" class=\"dataframe\">\n",
       "  <thead>\n",
       "    <tr style=\"text-align: right;\">\n",
       "      <th></th>\n",
       "      <th>dor_peito</th>\n",
       "      <th>boa_circulacao</th>\n",
       "      <th>arterias_bloq</th>\n",
       "      <th>doenca_coracao</th>\n",
       "    </tr>\n",
       "  </thead>\n",
       "  <tbody>\n",
       "  </tbody>\n",
       "</table>\n",
       "</div>"
      ],
      "text/plain": [
       "Empty DataFrame\n",
       "Columns: [dor_peito, boa_circulacao, arterias_bloq, doenca_coracao]\n",
       "Index: []"
      ]
     },
     "execution_count": 10,
     "metadata": {},
     "output_type": "execute_result"
    }
   ],
   "source": [
    "# não tem dor no peito e tem doença no coração\n",
    "\n",
    "data[(data['dor_peito'] == 0) & (data['doenca_coracao'] == 1)]"
   ]
  },
  {
   "cell_type": "code",
   "execution_count": 11,
   "metadata": {},
   "outputs": [
    {
     "data": {
      "text/plain": [
       "0"
      ]
     },
     "execution_count": 11,
     "metadata": {},
     "output_type": "execute_result"
    }
   ],
   "source": [
    "len(data[(data['dor_peito'] == 0) & (data['doenca_coracao'] == 1)])"
   ]
  },
  {
   "cell_type": "code",
   "execution_count": 12,
   "metadata": {},
   "outputs": [
    {
     "data": {
      "text/html": [
       "<div>\n",
       "<style scoped>\n",
       "    .dataframe tbody tr th:only-of-type {\n",
       "        vertical-align: middle;\n",
       "    }\n",
       "\n",
       "    .dataframe tbody tr th {\n",
       "        vertical-align: top;\n",
       "    }\n",
       "\n",
       "    .dataframe thead th {\n",
       "        text-align: right;\n",
       "    }\n",
       "</style>\n",
       "<table border=\"1\" class=\"dataframe\">\n",
       "  <thead>\n",
       "    <tr style=\"text-align: right;\">\n",
       "      <th></th>\n",
       "      <th>dor_peito</th>\n",
       "      <th>boa_circulacao</th>\n",
       "      <th>arterias_bloq</th>\n",
       "      <th>doenca_coracao</th>\n",
       "    </tr>\n",
       "  </thead>\n",
       "  <tbody>\n",
       "    <tr>\n",
       "      <th>0</th>\n",
       "      <td>0</td>\n",
       "      <td>0</td>\n",
       "      <td>0</td>\n",
       "      <td>0</td>\n",
       "    </tr>\n",
       "    <tr>\n",
       "      <th>4</th>\n",
       "      <td>0</td>\n",
       "      <td>0</td>\n",
       "      <td>0</td>\n",
       "      <td>0</td>\n",
       "    </tr>\n",
       "    <tr>\n",
       "      <th>8</th>\n",
       "      <td>0</td>\n",
       "      <td>0</td>\n",
       "      <td>0</td>\n",
       "      <td>0</td>\n",
       "    </tr>\n",
       "    <tr>\n",
       "      <th>12</th>\n",
       "      <td>0</td>\n",
       "      <td>0</td>\n",
       "      <td>0</td>\n",
       "      <td>0</td>\n",
       "    </tr>\n",
       "    <tr>\n",
       "      <th>14</th>\n",
       "      <td>0</td>\n",
       "      <td>1</td>\n",
       "      <td>0</td>\n",
       "      <td>0</td>\n",
       "    </tr>\n",
       "  </tbody>\n",
       "</table>\n",
       "</div>"
      ],
      "text/plain": [
       "    dor_peito  boa_circulacao  arterias_bloq  doenca_coracao\n",
       "0           0               0              0               0\n",
       "4           0               0              0               0\n",
       "8           0               0              0               0\n",
       "12          0               0              0               0\n",
       "14          0               1              0               0"
      ]
     },
     "execution_count": 12,
     "metadata": {},
     "output_type": "execute_result"
    }
   ],
   "source": [
    "# não tem dor no peito e não tem doença no coração\n",
    "\n",
    "data[(data['dor_peito'] == 0) & (data['doenca_coracao'] == 0)]"
   ]
  },
  {
   "cell_type": "code",
   "execution_count": 13,
   "metadata": {},
   "outputs": [
    {
     "data": {
      "text/plain": [
       "5"
      ]
     },
     "execution_count": 13,
     "metadata": {},
     "output_type": "execute_result"
    }
   ],
   "source": [
    "len(data[(data['dor_peito'] == 0) & (data['doenca_coracao'] == 0)])"
   ]
  },
  {
   "cell_type": "code",
   "execution_count": 14,
   "metadata": {},
   "outputs": [],
   "source": [
    "# ______________DOR NO PEITO\n",
    "# ____NAO _________________________ SIM\n",
    "\n",
    "# DOENCA NO CORACAO____________DOENCA NO CORACAO\n",
    "# SIM(0)_____NAO(5) ___________SIM(8)______NAO(3)"
   ]
  },
  {
   "cell_type": "code",
   "execution_count": 15,
   "metadata": {},
   "outputs": [],
   "source": [
    "# Calculo da impureza por GINI"
   ]
  },
  {
   "cell_type": "code",
   "execution_count": 16,
   "metadata": {},
   "outputs": [
    {
     "data": {
      "text/plain": [
       "0.0"
      ]
     },
     "execution_count": 16,
     "metadata": {},
     "output_type": "execute_result"
    }
   ],
   "source": [
    "# 1 - (probabilidade do sim)**2 - (probabilidade do nao)**2\n",
    "lado_esquerdo = 1 - (0/(0+5))**2 - (5/(0+5))**2\n",
    "lado_esquerdo"
   ]
  },
  {
   "cell_type": "code",
   "execution_count": 17,
   "metadata": {},
   "outputs": [
    {
     "data": {
      "text/plain": [
       "0.39669421487603307"
      ]
     },
     "execution_count": 17,
     "metadata": {},
     "output_type": "execute_result"
    }
   ],
   "source": [
    "lado_direito = 1 - (8/(8+3))**2 - (3/(8+3))**2\n",
    "lado_direito"
   ]
  },
  {
   "cell_type": "code",
   "execution_count": 18,
   "metadata": {},
   "outputs": [
    {
     "data": {
      "text/plain": [
       "0.2727272727272727"
      ]
     },
     "execution_count": 18,
     "metadata": {},
     "output_type": "execute_result"
    }
   ],
   "source": [
    "# GINI total dor_peito\n",
    "#GINI = lado_esq * (parcela da amostra do lado esq) + lado_dir * (parcela da amostra do lado direito)\n",
    "GINI_dor_peito = ( (0)*(5/(11+5)) ) + ( (0.39669421487603307)*(11/(11+5)) )\n",
    "GINI_dor_peito"
   ]
  },
  {
   "cell_type": "code",
   "execution_count": 19,
   "metadata": {},
   "outputs": [],
   "source": [
    "################################"
   ]
  },
  {
   "cell_type": "code",
   "execution_count": 20,
   "metadata": {},
   "outputs": [],
   "source": [
    "# análise boa_circulacao <--> doenca_coracao"
   ]
  },
  {
   "cell_type": "code",
   "execution_count": 21,
   "metadata": {},
   "outputs": [
    {
     "data": {
      "text/plain": [
       "4"
      ]
     },
     "execution_count": 21,
     "metadata": {},
     "output_type": "execute_result"
    }
   ],
   "source": [
    "# tem boa circulacao e tem doença no coração\n",
    "\n",
    "len(data[(data['boa_circulacao'] == 1) & (data['doenca_coracao'] == 1)])"
   ]
  },
  {
   "cell_type": "code",
   "execution_count": 22,
   "metadata": {},
   "outputs": [
    {
     "data": {
      "text/plain": [
       "4"
      ]
     },
     "execution_count": 22,
     "metadata": {},
     "output_type": "execute_result"
    }
   ],
   "source": [
    "# tem boa circulacao e não tem doença no coração\n",
    "\n",
    "len(data[(data['boa_circulacao'] == 1) & (data['doenca_coracao'] == 0)])"
   ]
  },
  {
   "cell_type": "code",
   "execution_count": 23,
   "metadata": {},
   "outputs": [
    {
     "data": {
      "text/plain": [
       "4"
      ]
     },
     "execution_count": 23,
     "metadata": {},
     "output_type": "execute_result"
    }
   ],
   "source": [
    "# não tem boa circulacao e tem doença no coração\n",
    "\n",
    "len(data[(data['boa_circulacao'] == 0) & (data['doenca_coracao'] == 1)])"
   ]
  },
  {
   "cell_type": "code",
   "execution_count": 24,
   "metadata": {},
   "outputs": [
    {
     "data": {
      "text/plain": [
       "4"
      ]
     },
     "execution_count": 24,
     "metadata": {},
     "output_type": "execute_result"
    }
   ],
   "source": [
    "# não tem boa circulacao e não tem doença no coração\n",
    "\n",
    "len(data[(data['boa_circulacao'] == 0) & (data['doenca_coracao'] == 0)])"
   ]
  },
  {
   "cell_type": "code",
   "execution_count": 25,
   "metadata": {},
   "outputs": [],
   "source": [
    "# ______________BOA CIRCULACAO\n",
    "# ____NAO _________________________ SIM\n",
    "\n",
    "# DOENCA NO CORACAO____________DOENCA NO CORACAO\n",
    "# SIM(4)_____NAO(4) ___________SIM(4)______NAO(4)"
   ]
  },
  {
   "cell_type": "code",
   "execution_count": 26,
   "metadata": {},
   "outputs": [],
   "source": [
    "# Calculo da impureza por GINI"
   ]
  },
  {
   "cell_type": "code",
   "execution_count": 27,
   "metadata": {},
   "outputs": [
    {
     "data": {
      "text/plain": [
       "0.5"
      ]
     },
     "execution_count": 27,
     "metadata": {},
     "output_type": "execute_result"
    }
   ],
   "source": [
    "# 1 - (probabilidade do sim)**2 - (probabilidade do nao)**2\n",
    "lado_esquerdo = 1 - (4/(4+4))**2 - (4/(4+4))**2\n",
    "lado_esquerdo"
   ]
  },
  {
   "cell_type": "code",
   "execution_count": 28,
   "metadata": {},
   "outputs": [
    {
     "data": {
      "text/plain": [
       "0.5"
      ]
     },
     "execution_count": 28,
     "metadata": {},
     "output_type": "execute_result"
    }
   ],
   "source": [
    "lado_direito = 1 - (4/(4+4))**2 - (4/(4+4))**2\n",
    "lado_direito"
   ]
  },
  {
   "cell_type": "code",
   "execution_count": 29,
   "metadata": {},
   "outputs": [
    {
     "data": {
      "text/plain": [
       "0.5"
      ]
     },
     "execution_count": 29,
     "metadata": {},
     "output_type": "execute_result"
    }
   ],
   "source": [
    "# GINI total boa_circulacao\n",
    "#GINI = lado_esq * (parcela da amostra do lado esq) + lado_dir * (parcela da amostra do lado direito)\n",
    "GINI_boa_circulacao = ( (0.5)*(8/(8+8)) ) + ( (0.5)*(8/(8+8)) )\n",
    "GINI_boa_circulacao"
   ]
  },
  {
   "cell_type": "code",
   "execution_count": 30,
   "metadata": {},
   "outputs": [],
   "source": [
    "################################"
   ]
  },
  {
   "cell_type": "code",
   "execution_count": 31,
   "metadata": {},
   "outputs": [],
   "source": [
    "# análise arterias_bloq <--> doenca_coracao"
   ]
  },
  {
   "cell_type": "code",
   "execution_count": 32,
   "metadata": {},
   "outputs": [
    {
     "data": {
      "text/plain": [
       "7"
      ]
     },
     "execution_count": 32,
     "metadata": {},
     "output_type": "execute_result"
    }
   ],
   "source": [
    "# tem arterias_bloq e tem doença no coração\n",
    "\n",
    "len(data[(data['arterias_bloq'] == 1) & (data['doenca_coracao'] == 1)])"
   ]
  },
  {
   "cell_type": "code",
   "execution_count": 33,
   "metadata": {},
   "outputs": [
    {
     "data": {
      "text/plain": [
       "1"
      ]
     },
     "execution_count": 33,
     "metadata": {},
     "output_type": "execute_result"
    }
   ],
   "source": [
    "# tem arterias_bloq e não tem doença no coração\n",
    "\n",
    "len(data[(data['arterias_bloq'] == 1) & (data['doenca_coracao'] == 0)])"
   ]
  },
  {
   "cell_type": "code",
   "execution_count": 34,
   "metadata": {},
   "outputs": [
    {
     "data": {
      "text/plain": [
       "1"
      ]
     },
     "execution_count": 34,
     "metadata": {},
     "output_type": "execute_result"
    }
   ],
   "source": [
    "# não tem arterias_bloq e tem doença no coração\n",
    "\n",
    "len(data[(data['arterias_bloq'] == 0) & (data['doenca_coracao'] == 1)])"
   ]
  },
  {
   "cell_type": "code",
   "execution_count": 35,
   "metadata": {},
   "outputs": [
    {
     "data": {
      "text/plain": [
       "7"
      ]
     },
     "execution_count": 35,
     "metadata": {},
     "output_type": "execute_result"
    }
   ],
   "source": [
    "# não tem arterias_bloq e não tem doença no coração\n",
    "\n",
    "len(data[(data['arterias_bloq'] == 0) & (data['doenca_coracao'] == 0)])"
   ]
  },
  {
   "cell_type": "code",
   "execution_count": 36,
   "metadata": {},
   "outputs": [],
   "source": [
    "# ______________ARTERIAS BLOQ\n",
    "# ____NAO _________________________ SIM\n",
    "\n",
    "# DOENCA NO CORACAO____________DOENCA NO CORACAO\n",
    "# SIM(1)_____NAO(7) ___________SIM(7)______NAO(1)"
   ]
  },
  {
   "cell_type": "code",
   "execution_count": 37,
   "metadata": {},
   "outputs": [],
   "source": [
    "# Calculo da impureza por GINI"
   ]
  },
  {
   "cell_type": "code",
   "execution_count": 38,
   "metadata": {},
   "outputs": [
    {
     "data": {
      "text/plain": [
       "0.21875"
      ]
     },
     "execution_count": 38,
     "metadata": {},
     "output_type": "execute_result"
    }
   ],
   "source": [
    "# 1 - (probabilidade do sim)**2 - (probabilidade do nao)**2\n",
    "lado_esquerdo = 1 - (1/(1+7))**2 - (7/(1+7))**2\n",
    "lado_esquerdo"
   ]
  },
  {
   "cell_type": "code",
   "execution_count": 39,
   "metadata": {},
   "outputs": [
    {
     "data": {
      "text/plain": [
       "0.21875"
      ]
     },
     "execution_count": 39,
     "metadata": {},
     "output_type": "execute_result"
    }
   ],
   "source": [
    "lado_direito = 1 - (7/(7+1))**2 - (1/(7+1))**2\n",
    "lado_direito"
   ]
  },
  {
   "cell_type": "code",
   "execution_count": 40,
   "metadata": {},
   "outputs": [
    {
     "data": {
      "text/plain": [
       "0.21875"
      ]
     },
     "execution_count": 40,
     "metadata": {},
     "output_type": "execute_result"
    }
   ],
   "source": [
    "# GINI total arterias_bloq\n",
    "#GINI = lado_esq * (parcela da amostra do lado esq) + lado_dir * (parcela da amostra do lado direito)\n",
    "GINI_arterias_bloq = ( (0.21875)*(8/(8+8)) ) + ( (0.21875)*(8/(8+8)) )\n",
    "GINI_arterias_bloq"
   ]
  },
  {
   "cell_type": "code",
   "execution_count": 41,
   "metadata": {},
   "outputs": [
    {
     "name": "stdout",
     "output_type": "stream",
     "text": [
      "impureza dor_peito: 0.2727272727272727\n",
      "impureza boa_circulacao: 0.5\n",
      "impureza arterias_bloq: 0.21875\n"
     ]
    }
   ],
   "source": [
    "print('impureza dor_peito:', GINI_dor_peito)\n",
    "print('impureza boa_circulacao:', GINI_boa_circulacao)\n",
    "print('impureza arterias_bloq:', GINI_arterias_bloq)\n"
   ]
  },
  {
   "cell_type": "code",
   "execution_count": 42,
   "metadata": {},
   "outputs": [],
   "source": [
    "#  menor impureza (mais certeza) arterias_bloq, entao ele será o root \n",
    "\n",
    "# ______________ARTERIAS BLOQ\n",
    "# ____SIM _________________________ NAO\n",
    "\n",
    "# DOENCA NO CORACAO____________DOENCA NO CORACAO\n",
    "# SIM(7)_____NAO(1) ___________SIM(1)______NAO(7)\n",
    "\n",
    "# vamos trabalhar o lado esquerdo, agora temos que ver como esses SIM(7) e NAO(1)\n",
    "# se comportam com dor_peito e boa_circulacao"
   ]
  },
  {
   "cell_type": "markdown",
   "metadata": {},
   "source": [
    "<img src=\"02.png\"/>"
   ]
  },
  {
   "cell_type": "code",
   "execution_count": 43,
   "metadata": {},
   "outputs": [],
   "source": [
    "# pegando só o lado direito (tem arteria bloq)"
   ]
  },
  {
   "cell_type": "code",
   "execution_count": 44,
   "metadata": {},
   "outputs": [],
   "source": [
    "tem_arteria_bloq = data[data['arterias_bloq']==1]"
   ]
  },
  {
   "cell_type": "code",
   "execution_count": 45,
   "metadata": {},
   "outputs": [
    {
     "data": {
      "text/html": [
       "<div>\n",
       "<style scoped>\n",
       "    .dataframe tbody tr th:only-of-type {\n",
       "        vertical-align: middle;\n",
       "    }\n",
       "\n",
       "    .dataframe tbody tr th {\n",
       "        vertical-align: top;\n",
       "    }\n",
       "\n",
       "    .dataframe thead th {\n",
       "        text-align: right;\n",
       "    }\n",
       "</style>\n",
       "<table border=\"1\" class=\"dataframe\">\n",
       "  <thead>\n",
       "    <tr style=\"text-align: right;\">\n",
       "      <th></th>\n",
       "      <th>dor_peito</th>\n",
       "      <th>boa_circulacao</th>\n",
       "      <th>arterias_bloq</th>\n",
       "      <th>doenca_coracao</th>\n",
       "    </tr>\n",
       "  </thead>\n",
       "  <tbody>\n",
       "    <tr>\n",
       "      <th>1</th>\n",
       "      <td>1</td>\n",
       "      <td>1</td>\n",
       "      <td>1</td>\n",
       "      <td>1</td>\n",
       "    </tr>\n",
       "    <tr>\n",
       "      <th>3</th>\n",
       "      <td>1</td>\n",
       "      <td>0</td>\n",
       "      <td>1</td>\n",
       "      <td>1</td>\n",
       "    </tr>\n",
       "    <tr>\n",
       "      <th>5</th>\n",
       "      <td>1</td>\n",
       "      <td>1</td>\n",
       "      <td>1</td>\n",
       "      <td>1</td>\n",
       "    </tr>\n",
       "    <tr>\n",
       "      <th>6</th>\n",
       "      <td>1</td>\n",
       "      <td>1</td>\n",
       "      <td>1</td>\n",
       "      <td>0</td>\n",
       "    </tr>\n",
       "    <tr>\n",
       "      <th>7</th>\n",
       "      <td>1</td>\n",
       "      <td>0</td>\n",
       "      <td>1</td>\n",
       "      <td>1</td>\n",
       "    </tr>\n",
       "    <tr>\n",
       "      <th>9</th>\n",
       "      <td>1</td>\n",
       "      <td>1</td>\n",
       "      <td>1</td>\n",
       "      <td>1</td>\n",
       "    </tr>\n",
       "    <tr>\n",
       "      <th>11</th>\n",
       "      <td>1</td>\n",
       "      <td>0</td>\n",
       "      <td>1</td>\n",
       "      <td>1</td>\n",
       "    </tr>\n",
       "    <tr>\n",
       "      <th>15</th>\n",
       "      <td>1</td>\n",
       "      <td>0</td>\n",
       "      <td>1</td>\n",
       "      <td>1</td>\n",
       "    </tr>\n",
       "  </tbody>\n",
       "</table>\n",
       "</div>"
      ],
      "text/plain": [
       "    dor_peito  boa_circulacao  arterias_bloq  doenca_coracao\n",
       "1           1               1              1               1\n",
       "3           1               0              1               1\n",
       "5           1               1              1               1\n",
       "6           1               1              1               0\n",
       "7           1               0              1               1\n",
       "9           1               1              1               1\n",
       "11          1               0              1               1\n",
       "15          1               0              1               1"
      ]
     },
     "execution_count": 45,
     "metadata": {},
     "output_type": "execute_result"
    }
   ],
   "source": [
    "tem_arteria_bloq"
   ]
  },
  {
   "cell_type": "code",
   "execution_count": 46,
   "metadata": {},
   "outputs": [],
   "source": [
    "# análise (lado do tem_arteria_bloq) dor_peito <--> doenca_coracao"
   ]
  },
  {
   "cell_type": "code",
   "execution_count": 47,
   "metadata": {},
   "outputs": [
    {
     "data": {
      "text/plain": [
       "7"
      ]
     },
     "execution_count": 47,
     "metadata": {},
     "output_type": "execute_result"
    }
   ],
   "source": [
    "# tem dor_peito e tem doença no coração\n",
    "\n",
    "len(tem_arteria_bloq[(tem_arteria_bloq['dor_peito'] == 1) & (tem_arteria_bloq['doenca_coracao'] == 1)])"
   ]
  },
  {
   "cell_type": "code",
   "execution_count": 48,
   "metadata": {},
   "outputs": [
    {
     "data": {
      "text/plain": [
       "1"
      ]
     },
     "execution_count": 48,
     "metadata": {},
     "output_type": "execute_result"
    }
   ],
   "source": [
    "# tem dor_peito e nao tem doença no coração\n",
    "\n",
    "len(tem_arteria_bloq[(tem_arteria_bloq['dor_peito'] == 1) & (tem_arteria_bloq['doenca_coracao'] == 0)])"
   ]
  },
  {
   "cell_type": "code",
   "execution_count": 49,
   "metadata": {},
   "outputs": [
    {
     "data": {
      "text/plain": [
       "0"
      ]
     },
     "execution_count": 49,
     "metadata": {},
     "output_type": "execute_result"
    }
   ],
   "source": [
    "# nao tem dor_peito e tem doença no coração\n",
    "\n",
    "len(tem_arteria_bloq[(tem_arteria_bloq['dor_peito'] == 0) & (tem_arteria_bloq['doenca_coracao'] == 1)])"
   ]
  },
  {
   "cell_type": "code",
   "execution_count": 50,
   "metadata": {},
   "outputs": [
    {
     "data": {
      "text/plain": [
       "0"
      ]
     },
     "execution_count": 50,
     "metadata": {},
     "output_type": "execute_result"
    }
   ],
   "source": [
    "# nao tem dor_peito e nao tem doença no coração\n",
    "\n",
    "len(tem_arteria_bloq[(tem_arteria_bloq['dor_peito'] == 0) & (tem_arteria_bloq['doenca_coracao'] == 1)])"
   ]
  },
  {
   "cell_type": "code",
   "execution_count": 51,
   "metadata": {},
   "outputs": [],
   "source": [
    "####____________________________ [TEM ARTERIA BLOQUEADA]\n",
    "#______________________NAO__________________________________________SIM_______________\n",
    "# ___________________???????___________________________________DOR NO PEITO_____________________\n",
    "# ___________________________________________________NAO _________________________ SIM\n",
    "\n",
    "# _______________________________________________DOENCA NO CORACAO____________DOENCA NO CORACAO\n",
    "# _______________________________________________SIM(0)_____NAO(0) ___________SIM(7)______NAO(1)"
   ]
  },
  {
   "cell_type": "code",
   "execution_count": 52,
   "metadata": {},
   "outputs": [
    {
     "name": "stdout",
     "output_type": "stream",
     "text": [
      "lado_esq: 0\n",
      "lado_dir: 0.21875\n"
     ]
    }
   ],
   "source": [
    "# Calculo da impureza por GINI\n",
    "\n",
    "# 1 - (probabilidade do sim)**2 - (probabilidade do nao)**2\n",
    "\n",
    "try:\n",
    "    lado_esquerdo = (1 - (0/(0+0))**2 - (0/(0+0))**2)\n",
    "except:\n",
    "    lado_esquerdo = 0\n",
    "\n",
    "print('lado_esq:', lado_esquerdo)\n",
    "\n",
    "\n",
    "\n",
    "try:\n",
    "    lado_direito = 1 - (7/(7+1))**2 - (1/(7+1))**2\n",
    "except:\n",
    "    lado_direito = 0\n",
    "\n",
    "print('lado_dir:',lado_direito)\n",
    "\n",
    "\n",
    "\n"
   ]
  },
  {
   "cell_type": "code",
   "execution_count": 53,
   "metadata": {},
   "outputs": [
    {
     "data": {
      "text/plain": [
       "0.21875"
      ]
     },
     "execution_count": 53,
     "metadata": {},
     "output_type": "execute_result"
    }
   ],
   "source": [
    "# GINI total dor_peito\n",
    "#GINI = lado_esq * (parcela da amostra do lado esq) + lado_dir * (parcela da amostra do lado direito)\n",
    "GINI_dor_peito = ( (0)*(0/(8+0)) ) + ( (0.21875)*(8/(8+0)) )\n",
    "GINI_dor_peito"
   ]
  },
  {
   "cell_type": "code",
   "execution_count": 54,
   "metadata": {},
   "outputs": [],
   "source": [
    "#####\n",
    "# análise (lado do tem_arteria_bloq) boa_circulacao <--> doenca_coracao"
   ]
  },
  {
   "cell_type": "code",
   "execution_count": 55,
   "metadata": {},
   "outputs": [
    {
     "data": {
      "text/plain": [
       "3"
      ]
     },
     "execution_count": 55,
     "metadata": {},
     "output_type": "execute_result"
    }
   ],
   "source": [
    "# tem boa_circulacao e tem doença no coração\n",
    "\n",
    "len(tem_arteria_bloq[(tem_arteria_bloq['boa_circulacao'] == 1) & (tem_arteria_bloq['doenca_coracao'] == 1)])"
   ]
  },
  {
   "cell_type": "code",
   "execution_count": 56,
   "metadata": {},
   "outputs": [
    {
     "data": {
      "text/plain": [
       "1"
      ]
     },
     "execution_count": 56,
     "metadata": {},
     "output_type": "execute_result"
    }
   ],
   "source": [
    "# tem boa_circulacao e nao tem doença no coração\n",
    "\n",
    "len(tem_arteria_bloq[(tem_arteria_bloq['boa_circulacao'] == 1) & (tem_arteria_bloq['doenca_coracao'] == 0)])"
   ]
  },
  {
   "cell_type": "code",
   "execution_count": 57,
   "metadata": {},
   "outputs": [
    {
     "data": {
      "text/plain": [
       "4"
      ]
     },
     "execution_count": 57,
     "metadata": {},
     "output_type": "execute_result"
    }
   ],
   "source": [
    "# nao tem boa_circulacao e tem doença no coração\n",
    "\n",
    "len(tem_arteria_bloq[(tem_arteria_bloq['boa_circulacao'] == 0) & (tem_arteria_bloq['doenca_coracao'] == 1)])"
   ]
  },
  {
   "cell_type": "code",
   "execution_count": 58,
   "metadata": {},
   "outputs": [
    {
     "data": {
      "text/plain": [
       "0"
      ]
     },
     "execution_count": 58,
     "metadata": {},
     "output_type": "execute_result"
    }
   ],
   "source": [
    "# nao tem boa_circulacao e nao tem doença no coração\n",
    "\n",
    "len(tem_arteria_bloq[(tem_arteria_bloq['boa_circulacao'] == 0) & (tem_arteria_bloq['doenca_coracao'] == 0)])"
   ]
  },
  {
   "cell_type": "code",
   "execution_count": 59,
   "metadata": {},
   "outputs": [],
   "source": [
    "####____________________________ [TEM ARTERIA BLOQUEADA]\n",
    "#______________________NAO__________________________________________SIM_______________\n",
    "# ___________________???????_________________________________BOA CIRCULACAO___________________\n",
    "# _________________________________________________NAO _________________________ SIM\n",
    "\n",
    "# _____________________________________________DOENCA NO CORACAO____________DOENCA NO CORACAO\n",
    "# _____________________________________________SIM(4)_____NAO(0) ___________SIM(3)______NAO(1)"
   ]
  },
  {
   "cell_type": "code",
   "execution_count": 60,
   "metadata": {},
   "outputs": [
    {
     "name": "stdout",
     "output_type": "stream",
     "text": [
      "lado_esq: 0.0\n",
      "lado_dir: 0.375\n"
     ]
    }
   ],
   "source": [
    "# Calculo da impureza por GINI\n",
    "\n",
    "# 1 - (probabilidade do sim)**2 - (probabilidade do nao)**2\n",
    "\n",
    "lado_esquerdo = 1 - (4/(4+0))**2 - (0/(4+0))**2\n",
    "\n",
    "print('lado_esq:', lado_esquerdo)\n",
    "\n",
    "\n",
    "\n",
    "lado_direito = 1 - (3/(3+1))**2 - (1/(3+1))**2\n",
    "\n",
    "\n",
    "print('lado_dir:',lado_direito)\n",
    "\n",
    "\n",
    "\n"
   ]
  },
  {
   "cell_type": "code",
   "execution_count": 61,
   "metadata": {},
   "outputs": [
    {
     "data": {
      "text/plain": [
       "0.1875"
      ]
     },
     "execution_count": 61,
     "metadata": {},
     "output_type": "execute_result"
    }
   ],
   "source": [
    "# GINI total boa_circulacao\n",
    "#GINI = lado_esq * (parcela da amostra do lado esq) + lado_dir * (parcela da amostra do lado direito)\n",
    "GINI_boa_circulacao = ( (0)*(4/(4+4)) ) + ( (0.375)*(4/(4+4)) )\n",
    "GINI_boa_circulacao"
   ]
  },
  {
   "cell_type": "code",
   "execution_count": 62,
   "metadata": {},
   "outputs": [
    {
     "name": "stdout",
     "output_type": "stream",
     "text": [
      "impureza dor_peito: 0.21875\n",
      "impureza boa_circulacao: 0.1875\n"
     ]
    }
   ],
   "source": [
    "print('impureza dor_peito:', GINI_dor_peito)\n",
    "print('impureza boa_circulacao:', GINI_boa_circulacao)"
   ]
  },
  {
   "cell_type": "code",
   "execution_count": 63,
   "metadata": {},
   "outputs": [],
   "source": [
    "#  menor impureza (mais certeza) boa_circulacao, entao ele será primeiro nó interno na esquerda\n",
    "\n",
    "####____________________________ [TEM ARTERIA BLOQUEADA]\n",
    "#______________________NAO__________________________________________SIM_______________________\n",
    "#_____________________?????________________________________[TEM BOA CIRCULACAO - 0.1875]_______\n",
    "#_____________________________________________ ____NAO (0.0)_________________________ SIM(0.375)\n",
    "\n",
    "#_____________________________________________ DOENCA NO CORACAO____________DOENCA NO CORACAO\n",
    "#_____________________________________________SIM(4)_____NAO(0) ___________SIM(3)______NAO(1)"
   ]
  },
  {
   "cell_type": "markdown",
   "metadata": {},
   "source": [
    "<img src=\"3.png\"/>"
   ]
  },
  {
   "cell_type": "code",
   "execution_count": 64,
   "metadata": {},
   "outputs": [
    {
     "data": {
      "text/html": [
       "<div>\n",
       "<style scoped>\n",
       "    .dataframe tbody tr th:only-of-type {\n",
       "        vertical-align: middle;\n",
       "    }\n",
       "\n",
       "    .dataframe tbody tr th {\n",
       "        vertical-align: top;\n",
       "    }\n",
       "\n",
       "    .dataframe thead th {\n",
       "        text-align: right;\n",
       "    }\n",
       "</style>\n",
       "<table border=\"1\" class=\"dataframe\">\n",
       "  <thead>\n",
       "    <tr style=\"text-align: right;\">\n",
       "      <th></th>\n",
       "      <th>dor_peito</th>\n",
       "      <th>boa_circulacao</th>\n",
       "      <th>arterias_bloq</th>\n",
       "      <th>doenca_coracao</th>\n",
       "    </tr>\n",
       "  </thead>\n",
       "  <tbody>\n",
       "    <tr>\n",
       "      <th>1</th>\n",
       "      <td>1</td>\n",
       "      <td>1</td>\n",
       "      <td>1</td>\n",
       "      <td>1</td>\n",
       "    </tr>\n",
       "    <tr>\n",
       "      <th>5</th>\n",
       "      <td>1</td>\n",
       "      <td>1</td>\n",
       "      <td>1</td>\n",
       "      <td>1</td>\n",
       "    </tr>\n",
       "    <tr>\n",
       "      <th>6</th>\n",
       "      <td>1</td>\n",
       "      <td>1</td>\n",
       "      <td>1</td>\n",
       "      <td>0</td>\n",
       "    </tr>\n",
       "    <tr>\n",
       "      <th>9</th>\n",
       "      <td>1</td>\n",
       "      <td>1</td>\n",
       "      <td>1</td>\n",
       "      <td>1</td>\n",
       "    </tr>\n",
       "  </tbody>\n",
       "</table>\n",
       "</div>"
      ],
      "text/plain": [
       "   dor_peito  boa_circulacao  arterias_bloq  doenca_coracao\n",
       "1          1               1              1               1\n",
       "5          1               1              1               1\n",
       "6          1               1              1               0\n",
       "9          1               1              1               1"
      ]
     },
     "execution_count": 64,
     "metadata": {},
     "output_type": "execute_result"
    }
   ],
   "source": [
    "# pegando só o lado direito (tem arteria bloq) e também (tem boa circualcao)\n",
    "\n",
    "tem_arteria_bloq_e_tem_boa_circ = tem_arteria_bloq[tem_arteria_bloq['boa_circulacao'] == 1]\n",
    "tem_arteria_bloq_e_tem_boa_circ"
   ]
  },
  {
   "cell_type": "code",
   "execution_count": 65,
   "metadata": {},
   "outputs": [],
   "source": [
    "# análise (lado do tem_arteria_bloq E tem boa circulacao) dor_peito <--> doenca_coracao"
   ]
  },
  {
   "cell_type": "code",
   "execution_count": 66,
   "metadata": {},
   "outputs": [
    {
     "data": {
      "text/plain": [
       "3"
      ]
     },
     "execution_count": 66,
     "metadata": {},
     "output_type": "execute_result"
    }
   ],
   "source": [
    "# tem dor_peito e tem doença no coração\n",
    "\n",
    "len(tem_arteria_bloq_e_tem_boa_circ[(tem_arteria_bloq_e_tem_boa_circ['dor_peito'] == 1) & (tem_arteria_bloq_e_tem_boa_circ['doenca_coracao'] == 1)])"
   ]
  },
  {
   "cell_type": "code",
   "execution_count": 67,
   "metadata": {},
   "outputs": [
    {
     "data": {
      "text/plain": [
       "1"
      ]
     },
     "execution_count": 67,
     "metadata": {},
     "output_type": "execute_result"
    }
   ],
   "source": [
    "# tem dor_peito e nao tem doença no coração\n",
    "\n",
    "len(tem_arteria_bloq_e_tem_boa_circ[(tem_arteria_bloq_e_tem_boa_circ['dor_peito'] == 1) & (tem_arteria_bloq_e_tem_boa_circ['doenca_coracao'] == 0)])"
   ]
  },
  {
   "cell_type": "code",
   "execution_count": 68,
   "metadata": {},
   "outputs": [
    {
     "data": {
      "text/plain": [
       "0"
      ]
     },
     "execution_count": 68,
     "metadata": {},
     "output_type": "execute_result"
    }
   ],
   "source": [
    "# nao tem dor_peito e tem doença no coração\n",
    "\n",
    "len(tem_arteria_bloq_e_tem_boa_circ[(tem_arteria_bloq_e_tem_boa_circ['dor_peito'] == 0) & (tem_arteria_bloq_e_tem_boa_circ['doenca_coracao'] == 1)])"
   ]
  },
  {
   "cell_type": "code",
   "execution_count": 69,
   "metadata": {},
   "outputs": [
    {
     "data": {
      "text/plain": [
       "0"
      ]
     },
     "execution_count": 69,
     "metadata": {},
     "output_type": "execute_result"
    }
   ],
   "source": [
    "# nao tem dor_peito e nao tem doença no coração\n",
    "\n",
    "len(tem_arteria_bloq_e_tem_boa_circ[(tem_arteria_bloq_e_tem_boa_circ['dor_peito'] == 0) & (tem_arteria_bloq_e_tem_boa_circ['doenca_coracao'] == 0)])"
   ]
  },
  {
   "cell_type": "code",
   "execution_count": 70,
   "metadata": {},
   "outputs": [],
   "source": [
    "\n",
    "\n",
    "####____________________________ [TEM ARTERIA BLOQUEADA]\n",
    "#______________________NAO__________________________________________SIM_______________\n",
    "#_____________________?????_________________ ____________[TEM BOA CIRCULACAO]__________\n",
    "# _________________________________________________NAO _______________________________________SIM\n",
    "\n",
    "# ________________________________________________?????____________________________________DOR NO PEITO \n",
    "# __________________________________________________________________________________NAO_________________SIM\n",
    "# ___________________________________________________________________________DOENCA NO CORACAO___DOENCA NO CORACAO\n",
    "# ___________________________________________________________________________NAO(0)_____SIM(0) __NAO(1)_____SIM(3)"
   ]
  },
  {
   "cell_type": "code",
   "execution_count": 71,
   "metadata": {},
   "outputs": [
    {
     "name": "stdout",
     "output_type": "stream",
     "text": [
      "lado_dir: 0.375\n",
      "lado_esq: 0\n"
     ]
    }
   ],
   "source": [
    "# Calculo da impureza por GINI\n",
    "\n",
    "# 1 - (probabilidade do sim)**2 - (probabilidade do nao)**2\n",
    "\n",
    "\n",
    "try:\n",
    "    lado_direito = 1 - (1/(3+1))**2 - (3/(3+1))**2\n",
    "except:\n",
    "    lado_direito = 0\n",
    "\n",
    "print('lado_dir:',lado_direito)\n",
    "\n",
    "\n",
    "\n",
    "try:\n",
    "    lado_esquerdo = (0 - (0/(0+0))**2 - (0/(0+0))**2)\n",
    "except:\n",
    "    lado_esquerdo = 0\n",
    "\n",
    "print('lado_esq:', lado_esquerdo)\n",
    "\n",
    "\n",
    "\n",
    "\n",
    "\n",
    "\n",
    "\n"
   ]
  },
  {
   "cell_type": "code",
   "execution_count": 72,
   "metadata": {},
   "outputs": [
    {
     "data": {
      "text/plain": [
       "0.375"
      ]
     },
     "execution_count": 72,
     "metadata": {},
     "output_type": "execute_result"
    }
   ],
   "source": [
    "# GINI total dor_peito\n",
    "#GINI = lado_esq * (parcela da amostra do lado esq) + lado_dir * (parcela da amostra do lado direito)\n",
    "GINI_dor_peito = ( (0)*(0/(4+0)) ) + ( (0.375)*(4/(4+0)) )\n",
    "GINI_dor_peito"
   ]
  },
  {
   "cell_type": "markdown",
   "metadata": {},
   "source": [
    "<img src=\"4.png\"/>"
   ]
  },
  {
   "cell_type": "code",
   "execution_count": 73,
   "metadata": {},
   "outputs": [],
   "source": [
    "## para o lado direito dor no peito nao resolve, pois o gini total de 0.375 foi igual a parcela da direita do\n",
    "# gini total do passo anterior 0.375, logo desse lado nao precisaria averiguar mais nada, a divisao do nivel\n",
    "# superior ja pode ser considerada final\n",
    "## \n",
    "## \n",
    "\n",
    "#mas temos que testar se dor no peito serve no lado esquerdo (nao tem boa circulacao)"
   ]
  },
  {
   "cell_type": "code",
   "execution_count": 74,
   "metadata": {},
   "outputs": [],
   "source": [
    "####____________________________ [TEM ARTERIA BLOQUEADA]\n",
    "#______________________SIM__________________________________________NAO_______________\n",
    "# ____________[TEM BOA CIRCULACAO]____________________________????????????\n",
    "# ______SIM ________________________________________ NAO\n",
    "\n",
    "# ___DOR NO PEITO _______________________?????(trabalhar aqui)?????\n",
    "#____[GINI 0.375]"
   ]
  },
  {
   "cell_type": "code",
   "execution_count": 75,
   "metadata": {},
   "outputs": [],
   "source": [
    "\n",
    "\n",
    "####____________________________ [TEM ARTERIA BLOQUEADA]\n",
    "#______________________NAO__________________________________________SIM_______________\n",
    "#_____________________?????_________________ ____________[TEM BOA CIRCULACAO]__________\n",
    "# _________________________________________________NAO _______________________________________SIM\n",
    "\n",
    "# _____________________________________________dor no peito____________________________[Parece ser final] "
   ]
  },
  {
   "cell_type": "code",
   "execution_count": 76,
   "metadata": {},
   "outputs": [
    {
     "data": {
      "text/html": [
       "<div>\n",
       "<style scoped>\n",
       "    .dataframe tbody tr th:only-of-type {\n",
       "        vertical-align: middle;\n",
       "    }\n",
       "\n",
       "    .dataframe tbody tr th {\n",
       "        vertical-align: top;\n",
       "    }\n",
       "\n",
       "    .dataframe thead th {\n",
       "        text-align: right;\n",
       "    }\n",
       "</style>\n",
       "<table border=\"1\" class=\"dataframe\">\n",
       "  <thead>\n",
       "    <tr style=\"text-align: right;\">\n",
       "      <th></th>\n",
       "      <th>dor_peito</th>\n",
       "      <th>boa_circulacao</th>\n",
       "      <th>arterias_bloq</th>\n",
       "      <th>doenca_coracao</th>\n",
       "    </tr>\n",
       "  </thead>\n",
       "  <tbody>\n",
       "    <tr>\n",
       "      <th>3</th>\n",
       "      <td>1</td>\n",
       "      <td>0</td>\n",
       "      <td>1</td>\n",
       "      <td>1</td>\n",
       "    </tr>\n",
       "    <tr>\n",
       "      <th>7</th>\n",
       "      <td>1</td>\n",
       "      <td>0</td>\n",
       "      <td>1</td>\n",
       "      <td>1</td>\n",
       "    </tr>\n",
       "    <tr>\n",
       "      <th>11</th>\n",
       "      <td>1</td>\n",
       "      <td>0</td>\n",
       "      <td>1</td>\n",
       "      <td>1</td>\n",
       "    </tr>\n",
       "    <tr>\n",
       "      <th>15</th>\n",
       "      <td>1</td>\n",
       "      <td>0</td>\n",
       "      <td>1</td>\n",
       "      <td>1</td>\n",
       "    </tr>\n",
       "  </tbody>\n",
       "</table>\n",
       "</div>"
      ],
      "text/plain": [
       "    dor_peito  boa_circulacao  arterias_bloq  doenca_coracao\n",
       "3           1               0              1               1\n",
       "7           1               0              1               1\n",
       "11          1               0              1               1\n",
       "15          1               0              1               1"
      ]
     },
     "execution_count": 76,
     "metadata": {},
     "output_type": "execute_result"
    }
   ],
   "source": [
    "# pegando só o lado esquerdo (tem arteria bloq) e agora direito (nao tem boa circualcao)\n",
    "\n",
    "tem_arteria_bloq_e_nao_tem_boa_circ = tem_arteria_bloq[tem_arteria_bloq['boa_circulacao'] == 0]\n",
    "tem_arteria_bloq_e_nao_tem_boa_circ"
   ]
  },
  {
   "cell_type": "code",
   "execution_count": 77,
   "metadata": {},
   "outputs": [],
   "source": [
    "# análise (lado do tem_arteria_bloq E nao tem boa circulacao) dor_peito <--> doenca_coracao"
   ]
  },
  {
   "cell_type": "code",
   "execution_count": 78,
   "metadata": {},
   "outputs": [
    {
     "data": {
      "text/plain": [
       "4"
      ]
     },
     "execution_count": 78,
     "metadata": {},
     "output_type": "execute_result"
    }
   ],
   "source": [
    "# tem dor_peito e tem doença no coração\n",
    "\n",
    "len(tem_arteria_bloq_e_nao_tem_boa_circ[(tem_arteria_bloq_e_nao_tem_boa_circ['dor_peito'] == 1) & (tem_arteria_bloq_e_nao_tem_boa_circ['doenca_coracao'] == 1)])\n",
    "\n"
   ]
  },
  {
   "cell_type": "code",
   "execution_count": 79,
   "metadata": {},
   "outputs": [
    {
     "data": {
      "text/plain": [
       "0"
      ]
     },
     "execution_count": 79,
     "metadata": {},
     "output_type": "execute_result"
    }
   ],
   "source": [
    "# tem dor_peito e nao tem doença no coração\n",
    "\n",
    "len(tem_arteria_bloq_e_nao_tem_boa_circ[(tem_arteria_bloq_e_nao_tem_boa_circ['dor_peito'] == 1) & (tem_arteria_bloq_e_nao_tem_boa_circ['doenca_coracao'] == 0)])\n",
    "\n"
   ]
  },
  {
   "cell_type": "code",
   "execution_count": 80,
   "metadata": {},
   "outputs": [
    {
     "data": {
      "text/plain": [
       "0"
      ]
     },
     "execution_count": 80,
     "metadata": {},
     "output_type": "execute_result"
    }
   ],
   "source": [
    "# nao tem dor_peito e tem doença no coração\n",
    "\n",
    "len(tem_arteria_bloq_e_nao_tem_boa_circ[(tem_arteria_bloq_e_nao_tem_boa_circ['dor_peito'] == 0) & (tem_arteria_bloq_e_nao_tem_boa_circ['doenca_coracao'] == 1)])\n",
    "\n"
   ]
  },
  {
   "cell_type": "code",
   "execution_count": 81,
   "metadata": {},
   "outputs": [
    {
     "data": {
      "text/plain": [
       "0"
      ]
     },
     "execution_count": 81,
     "metadata": {},
     "output_type": "execute_result"
    }
   ],
   "source": [
    "# nao tem dor_peito e nao tem doença no coração\n",
    "\n",
    "len(tem_arteria_bloq_e_nao_tem_boa_circ[(tem_arteria_bloq_e_nao_tem_boa_circ['dor_peito'] == 0) & (tem_arteria_bloq_e_nao_tem_boa_circ['doenca_coracao'] == 0)])\n",
    "\n"
   ]
  },
  {
   "cell_type": "code",
   "execution_count": 82,
   "metadata": {},
   "outputs": [],
   "source": [
    "\n",
    "\n",
    "####____________________________ [TEM ARTERIA BLOQUEADA]\n",
    "#______________________NAO__________________________________________SIM_______________\n",
    "#_____________________?????_________________ ____________[TEM BOA CIRCULACAO]__________\n",
    "# _________________________________________________NAO _______________________________________SIM\n",
    "\n",
    "# _____________________________________________dor no peito____________________________[Parece ser final] \n",
    "# ______________________________________NAO_________________SIM\n",
    "# _______________________________DOENCA NO CORACAO___DOENCA NO CORACAO\n",
    "#  ______________________________NAO(0)_____SIM(0) __NAO(0)_____SIM(4)"
   ]
  },
  {
   "cell_type": "code",
   "execution_count": 83,
   "metadata": {},
   "outputs": [
    {
     "name": "stdout",
     "output_type": "stream",
     "text": [
      "lado_esq: 0\n",
      "lado_dir: 0.0\n"
     ]
    }
   ],
   "source": [
    "# Calculo da impureza por GINI\n",
    "\n",
    "# 1 - (probabilidade do sim)**2 - (probabilidade do nao)**2\n",
    "\n",
    "try:\n",
    "    lado_esquerdo = (0 - (0/(0+0))**2 - (0/(0+0))**2)\n",
    "except:\n",
    "    lado_esquerdo = 0\n",
    "\n",
    "print('lado_esq:', lado_esquerdo)\n",
    "\n",
    "\n",
    "\n",
    "try:\n",
    "    lado_direito = 1 - (0/(4+0))**2 - (4/(4+0))**2\n",
    "except:\n",
    "    lado_direito = 0\n",
    "\n",
    "print('lado_dir:',lado_direito)\n",
    "\n",
    "\n",
    "\n"
   ]
  },
  {
   "cell_type": "code",
   "execution_count": 84,
   "metadata": {},
   "outputs": [
    {
     "data": {
      "text/plain": [
       "0.0"
      ]
     },
     "execution_count": 84,
     "metadata": {},
     "output_type": "execute_result"
    }
   ],
   "source": [
    "# GINI total dor_peito\n",
    "#GINI = lado_esq * (parcela da amostra do lado esq) + lado_dir * (parcela da amostra do lado direito)\n",
    "GINI_dor_peito = ( (0)*(0/(4+0)) ) + ( (0)*(4/(4+0)) )\n",
    "GINI_dor_peito"
   ]
  },
  {
   "cell_type": "markdown",
   "metadata": {},
   "source": [
    "<img src=\"5.png\"/>"
   ]
  },
  {
   "cell_type": "code",
   "execution_count": 85,
   "metadata": {},
   "outputs": [],
   "source": [
    "## para o lado esquerdo dor no peito tb nao resolve, pois o gini total de 0 foi igual a parcela da esquerda do\n",
    "# gini total do passo anterior 0 também, logo desse lado nao precisaria averiguar mais nada, a divisao do nivel\n",
    "# superior ja pode ser considerada final"
   ]
  },
  {
   "cell_type": "code",
   "execution_count": 86,
   "metadata": {},
   "outputs": [],
   "source": [
    "# finalizamos assim, um lado! (falta todo o outro lado, pra ver se dor no peito eh um bom divisor, etc etc)"
   ]
  },
  {
   "cell_type": "markdown",
   "metadata": {},
   "source": [
    "<img src=\"06.png\"/>"
   ]
  },
  {
   "cell_type": "code",
   "execution_count": 87,
   "metadata": {},
   "outputs": [
    {
     "data": {
      "text/html": [
       "<div>\n",
       "<style scoped>\n",
       "    .dataframe tbody tr th:only-of-type {\n",
       "        vertical-align: middle;\n",
       "    }\n",
       "\n",
       "    .dataframe tbody tr th {\n",
       "        vertical-align: top;\n",
       "    }\n",
       "\n",
       "    .dataframe thead th {\n",
       "        text-align: right;\n",
       "    }\n",
       "</style>\n",
       "<table border=\"1\" class=\"dataframe\">\n",
       "  <thead>\n",
       "    <tr style=\"text-align: right;\">\n",
       "      <th></th>\n",
       "      <th>dor_peito</th>\n",
       "      <th>boa_circulacao</th>\n",
       "      <th>arterias_bloq</th>\n",
       "      <th>doenca_coracao</th>\n",
       "    </tr>\n",
       "  </thead>\n",
       "  <tbody>\n",
       "    <tr>\n",
       "      <th>3</th>\n",
       "      <td>1</td>\n",
       "      <td>0</td>\n",
       "      <td>1</td>\n",
       "      <td>1</td>\n",
       "    </tr>\n",
       "    <tr>\n",
       "      <th>7</th>\n",
       "      <td>1</td>\n",
       "      <td>0</td>\n",
       "      <td>1</td>\n",
       "      <td>1</td>\n",
       "    </tr>\n",
       "    <tr>\n",
       "      <th>11</th>\n",
       "      <td>1</td>\n",
       "      <td>0</td>\n",
       "      <td>1</td>\n",
       "      <td>1</td>\n",
       "    </tr>\n",
       "    <tr>\n",
       "      <th>15</th>\n",
       "      <td>1</td>\n",
       "      <td>0</td>\n",
       "      <td>1</td>\n",
       "      <td>1</td>\n",
       "    </tr>\n",
       "  </tbody>\n",
       "</table>\n",
       "</div>"
      ],
      "text/plain": [
       "    dor_peito  boa_circulacao  arterias_bloq  doenca_coracao\n",
       "3           1               0              1               1\n",
       "7           1               0              1               1\n",
       "11          1               0              1               1\n",
       "15          1               0              1               1"
      ]
     },
     "execution_count": 87,
     "metadata": {},
     "output_type": "execute_result"
    }
   ],
   "source": [
    "data[(data['arterias_bloq']==1) & (data['boa_circulacao']==0)]"
   ]
  },
  {
   "cell_type": "code",
   "execution_count": 88,
   "metadata": {},
   "outputs": [],
   "source": [
    "####################"
   ]
  },
  {
   "cell_type": "code",
   "execution_count": 89,
   "metadata": {},
   "outputs": [],
   "source": [
    "from sklearn.tree import DecisionTreeClassifier"
   ]
  },
  {
   "cell_type": "code",
   "execution_count": 90,
   "metadata": {},
   "outputs": [],
   "source": [
    "modelo = DecisionTreeClassifier(criterion='gini', max_depth=5, random_state=0)"
   ]
  },
  {
   "cell_type": "code",
   "execution_count": 91,
   "metadata": {},
   "outputs": [
    {
     "data": {
      "text/plain": [
       "DecisionTreeClassifier(ccp_alpha=0.0, class_weight=None, criterion='gini',\n",
       "                       max_depth=5, max_features=None, max_leaf_nodes=None,\n",
       "                       min_impurity_decrease=0.0, min_impurity_split=None,\n",
       "                       min_samples_leaf=1, min_samples_split=2,\n",
       "                       min_weight_fraction_leaf=0.0, presort='deprecated',\n",
       "                       random_state=0, splitter='best')"
      ]
     },
     "execution_count": 91,
     "metadata": {},
     "output_type": "execute_result"
    }
   ],
   "source": [
    "\n",
    "x = data[['dor_peito','boa_circulacao','arterias_bloq']]\n",
    "y = data[['doenca_coracao']]\n",
    "\n",
    "modelo.fit(x, y)"
   ]
  },
  {
   "cell_type": "code",
   "execution_count": 92,
   "metadata": {},
   "outputs": [
    {
     "data": {
      "text/plain": [
       "[Text(334.8, 362.4, 'X[2] <= 0.5\\ngini = 0.5\\nsamples = 16\\nvalue = [8, 8]'),\n",
       " Text(167.4, 217.44, 'X[0] <= 0.5\\ngini = 0.219\\nsamples = 8\\nvalue = [7, 1]'),\n",
       " Text(83.7, 72.47999999999996, 'gini = 0.0\\nsamples = 5\\nvalue = [5, 0]'),\n",
       " Text(251.10000000000002, 72.47999999999996, 'gini = 0.444\\nsamples = 3\\nvalue = [2, 1]'),\n",
       " Text(502.20000000000005, 217.44, 'X[1] <= 0.5\\ngini = 0.219\\nsamples = 8\\nvalue = [1, 7]'),\n",
       " Text(418.5, 72.47999999999996, 'gini = 0.0\\nsamples = 4\\nvalue = [0, 4]'),\n",
       " Text(585.9, 72.47999999999996, 'gini = 0.375\\nsamples = 4\\nvalue = [1, 3]')]"
      ]
     },
     "execution_count": 92,
     "metadata": {},
     "output_type": "execute_result"
    },
    {
     "data": {
      "image/png": "[encoded data removed]",
      "text/plain": [
       "<Figure size 864x576 with 1 Axes>"
      ]
     },
     "metadata": {
      "needs_background": "light"
     },
     "output_type": "display_data"
    }
   ],
   "source": [
    "import matplotlib.pyplot as plt\n",
    "plt.figure(figsize=(12,8))\n",
    "\n",
    "from sklearn import tree\n",
    "\n",
    "tree.plot_tree(modelo.fit(x, y)) "
   ]
  },
  {
   "cell_type": "code",
   "execution_count": 93,
   "metadata": {},
   "outputs": [
    {
     "data": {
      "image/png": "[encoded data removed]",
      "text/plain": [
       "<Figure size 864x576 with 1 Axes>"
      ]
     },
     "metadata": {
      "needs_background": "light"
     },
     "output_type": "display_data"
    }
   ],
   "source": [
    "plt.figure(figsize=(12,8))\n",
    "fn = ['dor_peito','boa_circulacao','arterias_bloq']\n",
    "cn = ['saudável', 'enfermo']\n",
    "tree.plot_tree(modelo.fit(x, y), feature_names=fn, class_names=cn );"
   ]
  },
  {
   "cell_type": "code",
   "execution_count": 94,
   "metadata": {},
   "outputs": [
    {
     "data": {
      "text/html": [
       "<div>\n",
       "<style scoped>\n",
       "    .dataframe tbody tr th:only-of-type {\n",
       "        vertical-align: middle;\n",
       "    }\n",
       "\n",
       "    .dataframe tbody tr th {\n",
       "        vertical-align: top;\n",
       "    }\n",
       "\n",
       "    .dataframe thead th {\n",
       "        text-align: right;\n",
       "    }\n",
       "</style>\n",
       "<table border=\"1\" class=\"dataframe\">\n",
       "  <thead>\n",
       "    <tr style=\"text-align: right;\">\n",
       "      <th></th>\n",
       "      <th>dor_peito</th>\n",
       "      <th>boa_circulacao</th>\n",
       "      <th>arterias_bloq</th>\n",
       "    </tr>\n",
       "  </thead>\n",
       "  <tbody>\n",
       "    <tr>\n",
       "      <th>0</th>\n",
       "      <td>0</td>\n",
       "      <td>0</td>\n",
       "      <td>0</td>\n",
       "    </tr>\n",
       "    <tr>\n",
       "      <th>1</th>\n",
       "      <td>1</td>\n",
       "      <td>1</td>\n",
       "      <td>1</td>\n",
       "    </tr>\n",
       "    <tr>\n",
       "      <th>2</th>\n",
       "      <td>1</td>\n",
       "      <td>1</td>\n",
       "      <td>0</td>\n",
       "    </tr>\n",
       "    <tr>\n",
       "      <th>3</th>\n",
       "      <td>1</td>\n",
       "      <td>0</td>\n",
       "      <td>1</td>\n",
       "    </tr>\n",
       "    <tr>\n",
       "      <th>4</th>\n",
       "      <td>0</td>\n",
       "      <td>0</td>\n",
       "      <td>0</td>\n",
       "    </tr>\n",
       "    <tr>\n",
       "      <th>5</th>\n",
       "      <td>1</td>\n",
       "      <td>1</td>\n",
       "      <td>1</td>\n",
       "    </tr>\n",
       "    <tr>\n",
       "      <th>6</th>\n",
       "      <td>1</td>\n",
       "      <td>1</td>\n",
       "      <td>1</td>\n",
       "    </tr>\n",
       "    <tr>\n",
       "      <th>7</th>\n",
       "      <td>1</td>\n",
       "      <td>0</td>\n",
       "      <td>1</td>\n",
       "    </tr>\n",
       "    <tr>\n",
       "      <th>8</th>\n",
       "      <td>0</td>\n",
       "      <td>0</td>\n",
       "      <td>0</td>\n",
       "    </tr>\n",
       "    <tr>\n",
       "      <th>9</th>\n",
       "      <td>1</td>\n",
       "      <td>1</td>\n",
       "      <td>1</td>\n",
       "    </tr>\n",
       "    <tr>\n",
       "      <th>10</th>\n",
       "      <td>1</td>\n",
       "      <td>1</td>\n",
       "      <td>0</td>\n",
       "    </tr>\n",
       "    <tr>\n",
       "      <th>11</th>\n",
       "      <td>1</td>\n",
       "      <td>0</td>\n",
       "      <td>1</td>\n",
       "    </tr>\n",
       "    <tr>\n",
       "      <th>12</th>\n",
       "      <td>0</td>\n",
       "      <td>0</td>\n",
       "      <td>0</td>\n",
       "    </tr>\n",
       "    <tr>\n",
       "      <th>13</th>\n",
       "      <td>1</td>\n",
       "      <td>1</td>\n",
       "      <td>0</td>\n",
       "    </tr>\n",
       "    <tr>\n",
       "      <th>14</th>\n",
       "      <td>0</td>\n",
       "      <td>1</td>\n",
       "      <td>0</td>\n",
       "    </tr>\n",
       "    <tr>\n",
       "      <th>15</th>\n",
       "      <td>1</td>\n",
       "      <td>0</td>\n",
       "      <td>1</td>\n",
       "    </tr>\n",
       "  </tbody>\n",
       "</table>\n",
       "</div>"
      ],
      "text/plain": [
       "    dor_peito  boa_circulacao  arterias_bloq\n",
       "0           0               0              0\n",
       "1           1               1              1\n",
       "2           1               1              0\n",
       "3           1               0              1\n",
       "4           0               0              0\n",
       "5           1               1              1\n",
       "6           1               1              1\n",
       "7           1               0              1\n",
       "8           0               0              0\n",
       "9           1               1              1\n",
       "10          1               1              0\n",
       "11          1               0              1\n",
       "12          0               0              0\n",
       "13          1               1              0\n",
       "14          0               1              0\n",
       "15          1               0              1"
      ]
     },
     "execution_count": 94,
     "metadata": {},
     "output_type": "execute_result"
    }
   ],
   "source": [
    "x"
   ]
  },
  {
   "cell_type": "code",
   "execution_count": 95,
   "metadata": {},
   "outputs": [
    {
     "data": {
      "text/html": [
       "<div>\n",
       "<style scoped>\n",
       "    .dataframe tbody tr th:only-of-type {\n",
       "        vertical-align: middle;\n",
       "    }\n",
       "\n",
       "    .dataframe tbody tr th {\n",
       "        vertical-align: top;\n",
       "    }\n",
       "\n",
       "    .dataframe thead th {\n",
       "        text-align: right;\n",
       "    }\n",
       "</style>\n",
       "<table border=\"1\" class=\"dataframe\">\n",
       "  <thead>\n",
       "    <tr style=\"text-align: right;\">\n",
       "      <th></th>\n",
       "      <th>dor_peito</th>\n",
       "      <th>boa_circulacao</th>\n",
       "      <th>arterias_bloq</th>\n",
       "    </tr>\n",
       "  </thead>\n",
       "  <tbody>\n",
       "    <tr>\n",
       "      <th>0</th>\n",
       "      <td>1</td>\n",
       "      <td>0</td>\n",
       "      <td>1</td>\n",
       "    </tr>\n",
       "  </tbody>\n",
       "</table>\n",
       "</div>"
      ],
      "text/plain": [
       "   dor_peito  boa_circulacao  arterias_bloq\n",
       "0          1               0              1"
      ]
     },
     "execution_count": 95,
     "metadata": {},
     "output_type": "execute_result"
    }
   ],
   "source": [
    "teste1 = {\n",
    "    'dor_peito' : [1],\n",
    "    'boa_circulacao' : [0],\n",
    "    'arterias_bloq' : [1],\n",
    "}\n",
    "  \n",
    "# creating a Dataframe object \n",
    "teste1 = pd.DataFrame(teste1)\n",
    "  \n",
    "teste1"
   ]
  },
  {
   "cell_type": "code",
   "execution_count": 96,
   "metadata": {},
   "outputs": [
    {
     "data": {
      "text/plain": [
       "array([1])"
      ]
     },
     "execution_count": 96,
     "metadata": {},
     "output_type": "execute_result"
    }
   ],
   "source": [
    "modelo.predict(teste1[['dor_peito','boa_circulacao','arterias_bloq']])"
   ]
  },
  {
   "cell_type": "code",
   "execution_count": 97,
   "metadata": {},
   "outputs": [
    {
     "name": "stdout",
     "output_type": "stream",
     "text": [
      "Indivíduo Enfermo\n"
     ]
    }
   ],
   "source": [
    "if modelo.predict(teste1[['dor_peito','boa_circulacao','arterias_bloq']]) == 1:\n",
    "    print('Indivíduo Enfermo')\n",
    "else:\n",
    "    print('Indivíduo Saudável')"
   ]
  },
  {
   "cell_type": "code",
   "execution_count": 98,
   "metadata": {},
   "outputs": [
    {
     "name": "stdout",
     "output_type": "stream",
     "text": [
      "Indivíduo Saudável\n"
     ]
    }
   ],
   "source": [
    "teste2 = {\n",
    "    'dor_peito' : [0],\n",
    "    'boa_circulacao' : [1],\n",
    "    'arterias_bloq' : [0],\n",
    "}\n",
    "  \n",
    "# creating a Dataframe object \n",
    "teste2 = pd.DataFrame(teste2)\n",
    "  \n",
    "if modelo.predict(teste2[['dor_peito','boa_circulacao','arterias_bloq']]) == 1:\n",
    "    print('Indivíduo Enfermo')\n",
    "else:\n",
    "    print('Indivíduo Saudável')"
   ]
  },
  {
   "cell_type": "code",
   "execution_count": 99,
   "metadata": {},
   "outputs": [],
   "source": [
    "################"
   ]
  },
  {
   "cell_type": "code",
   "execution_count": 100,
   "metadata": {},
   "outputs": [],
   "source": [
    "# RANDOM FOREST\n",
    "\n",
    "# arvore eh legal e funciona bem, porem nao eh muito aderente a novos dados entrantes\n",
    "# para ganhar em generalidade, nos valemos da random forest\n",
    "#\n",
    "# premissa é de criar várias árvores, de maneira a contemplar muitos cenarios avaliativos\n",
    "# passos: 1) bootstrapping; (bagging)\n",
    "#         2) criação de muitas arvores com selecao de diferentes variaveis;\n",
    "#         3) aferição da precisão, usando elementos out of bag (nao selecionados no bootstrapping)\n",
    "##"
   ]
  },
  {
   "cell_type": "code",
   "execution_count": 101,
   "metadata": {},
   "outputs": [
    {
     "data": {
      "text/html": [
       "<div>\n",
       "<style scoped>\n",
       "    .dataframe tbody tr th:only-of-type {\n",
       "        vertical-align: middle;\n",
       "    }\n",
       "\n",
       "    .dataframe tbody tr th {\n",
       "        vertical-align: top;\n",
       "    }\n",
       "\n",
       "    .dataframe thead th {\n",
       "        text-align: right;\n",
       "    }\n",
       "</style>\n",
       "<table border=\"1\" class=\"dataframe\">\n",
       "  <thead>\n",
       "    <tr style=\"text-align: right;\">\n",
       "      <th></th>\n",
       "      <th>dor_peito</th>\n",
       "      <th>boa_circulacao</th>\n",
       "      <th>arterias_bloq</th>\n",
       "      <th>doenca_coracao</th>\n",
       "    </tr>\n",
       "  </thead>\n",
       "  <tbody>\n",
       "    <tr>\n",
       "      <th>0</th>\n",
       "      <td>0</td>\n",
       "      <td>0</td>\n",
       "      <td>0</td>\n",
       "      <td>0</td>\n",
       "    </tr>\n",
       "    <tr>\n",
       "      <th>1</th>\n",
       "      <td>1</td>\n",
       "      <td>1</td>\n",
       "      <td>1</td>\n",
       "      <td>1</td>\n",
       "    </tr>\n",
       "    <tr>\n",
       "      <th>2</th>\n",
       "      <td>1</td>\n",
       "      <td>1</td>\n",
       "      <td>0</td>\n",
       "      <td>0</td>\n",
       "    </tr>\n",
       "    <tr>\n",
       "      <th>3</th>\n",
       "      <td>1</td>\n",
       "      <td>0</td>\n",
       "      <td>1</td>\n",
       "      <td>1</td>\n",
       "    </tr>\n",
       "    <tr>\n",
       "      <th>4</th>\n",
       "      <td>0</td>\n",
       "      <td>0</td>\n",
       "      <td>0</td>\n",
       "      <td>0</td>\n",
       "    </tr>\n",
       "  </tbody>\n",
       "</table>\n",
       "</div>"
      ],
      "text/plain": [
       "   dor_peito  boa_circulacao  arterias_bloq  doenca_coracao\n",
       "0          0               0              0               0\n",
       "1          1               1              1               1\n",
       "2          1               1              0               0\n",
       "3          1               0              1               1\n",
       "4          0               0              0               0"
      ]
     },
     "execution_count": 101,
     "metadata": {},
     "output_type": "execute_result"
    }
   ],
   "source": [
    "data.head()"
   ]
  },
  {
   "cell_type": "code",
   "execution_count": 102,
   "metadata": {},
   "outputs": [],
   "source": [
    "from sklearn.model_selection import train_test_split\n",
    "\n",
    "x = data[['dor_peito','boa_circulacao','arterias_bloq']]\n",
    "y = data[['doenca_coracao']]\n",
    "\n",
    "\n",
    "X_train, X_test, y_train, y_test = train_test_split(x, y, test_size=0.2, random_state=2) #usar 3 para outro ex"
   ]
  },
  {
   "cell_type": "code",
   "execution_count": 103,
   "metadata": {},
   "outputs": [
    {
     "name": "stderr",
     "output_type": "stream",
     "text": [
      "/opt/anaconda3/lib/python3.7/site-packages/ipykernel_launcher.py:4: DataConversionWarning: A column-vector y was passed when a 1d array was expected. Please change the shape of y to (n_samples,), for example using ravel().\n",
      "  after removing the cwd from sys.path.\n"
     ]
    }
   ],
   "source": [
    "from sklearn.ensemble import RandomForestRegressor\n",
    "\n",
    "regressor = RandomForestRegressor(n_estimators=100, random_state=3) \n",
    "regressor.fit(X_train, y_train)\n",
    "y_pred = regressor.predict(X_test)"
   ]
  },
  {
   "cell_type": "code",
   "execution_count": 104,
   "metadata": {},
   "outputs": [
    {
     "name": "stdout",
     "output_type": "stream",
     "text": [
      "y_teste:     doenca_coracao\n",
      "12               0\n",
      "4                0\n",
      "5                1\n",
      "0                0\n",
      "\n",
      "\n",
      "\n",
      "y_previsto: [0. 0. 1. 0.]\n"
     ]
    }
   ],
   "source": [
    "print('y_teste:',y_test)\n",
    "print('')\n",
    "print('')\n",
    "print('')\n",
    "print('y_previsto:',y_pred.round(0))"
   ]
  },
  {
   "cell_type": "code",
   "execution_count": 105,
   "metadata": {},
   "outputs": [
    {
     "name": "stdout",
     "output_type": "stream",
     "text": [
      "[[3 0]\n",
      " [0 1]]\n",
      "#----#----#\n",
      "              precision    recall  f1-score   support\n",
      "\n",
      "           0       1.00      1.00      1.00         3\n",
      "           1       1.00      1.00      1.00         1\n",
      "\n",
      "    accuracy                           1.00         4\n",
      "   macro avg       1.00      1.00      1.00         4\n",
      "weighted avg       1.00      1.00      1.00         4\n",
      "\n",
      "#----#----#\n",
      "1.0\n"
     ]
    }
   ],
   "source": [
    "from sklearn.metrics import classification_report, confusion_matrix, accuracy_score\n",
    "\n",
    "print(confusion_matrix(y_test,y_pred.round(0)))\n",
    "print('#----#----#')\n",
    "print(classification_report(y_test,y_pred.round(0)))\n",
    "print('#----#----#')\n",
    "print(accuracy_score(y_test, y_pred.round(0)))"
   ]
  },
  {
   "cell_type": "code",
   "execution_count": 106,
   "metadata": {},
   "outputs": [],
   "source": [
    "####"
   ]
  },
  {
   "cell_type": "code",
   "execution_count": 107,
   "metadata": {},
   "outputs": [],
   "source": [
    "teste2 = {\n",
    "    'dor_peito' : [0],\n",
    "    'boa_circulacao' : [1],\n",
    "    'arterias_bloq' : [0],\n",
    "}\n",
    "  \n",
    "# creating a Dataframe object \n",
    "teste2 = pd.DataFrame(teste2)"
   ]
  },
  {
   "cell_type": "code",
   "execution_count": 108,
   "metadata": {},
   "outputs": [
    {
     "data": {
      "text/plain": [
       "array([0.])"
      ]
     },
     "execution_count": 108,
     "metadata": {},
     "output_type": "execute_result"
    }
   ],
   "source": [
    "regressor.predict(teste2[['dor_peito','boa_circulacao','arterias_bloq']]).round(0)"
   ]
  },
  {
   "cell_type": "code",
   "execution_count": 109,
   "metadata": {},
   "outputs": [
    {
     "name": "stdout",
     "output_type": "stream",
     "text": [
      "Indivíduo Saudável\n"
     ]
    }
   ],
   "source": [
    "if regressor.predict(teste2[['dor_peito','boa_circulacao','arterias_bloq']]).round(0) == 1:\n",
    "    print('Indivíduo Enfermo')\n",
    "else:\n",
    "    print('Indivíduo Saudável')"
   ]
  },
  {
   "cell_type": "code",
   "execution_count": null,
   "metadata": {},
   "outputs": [],
   "source": []
  }
 ],
 "metadata": {
  "kernelspec": {
   "display_name": "Python 3",
   "language": "python",
   "name": "python3"
  },
  "language_info": {
   "codemirror_mode": {
    "name": "ipython",
    "version": 3
   },
   "file_extension": ".py",
   "mimetype": "text/x-python",
   "name": "python",
   "nbconvert_exporter": "python",
   "pygments_lexer": "ipython3",
   "version": "3.7.6"
  }
 },
 "nbformat": 4,
 "nbformat_minor": 4
}
